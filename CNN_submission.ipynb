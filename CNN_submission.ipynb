version https://git-lfs.github.com/spec/v1
oid sha256:384bc3af8d895dad71b3415f3a0a50c3d3b8e4f7cfc85d8061cfa33705caddf4
size 30091654
